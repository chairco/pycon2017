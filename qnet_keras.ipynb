{
 "cells": [
  {
   "cell_type": "code",
   "execution_count": 1,
   "metadata": {
    "collapsed": true
   },
   "outputs": [],
   "source": [
    "import gym\n",
    "import numpy as np\n",
    "np.random.seed(1)"
   ]
  },
  {
   "cell_type": "code",
   "execution_count": 2,
   "metadata": {},
   "outputs": [
    {
     "name": "stderr",
     "output_type": "stream",
     "text": [
      "Using TensorFlow backend.\n"
     ]
    }
   ],
   "source": [
    "from keras.models import Model\n",
    "from keras.layers import Input, Dense\n",
    "from keras.optimizers import RMSprop\n",
    "from keras.initializers import TruncatedNormal"
   ]
  },
  {
   "cell_type": "code",
   "execution_count": 3,
   "metadata": {
    "collapsed": true
   },
   "outputs": [],
   "source": [
    "import pandas as pd\n",
    "import matplotlib.pyplot as plt\n",
    "%matplotlib inline"
   ]
  },
  {
   "cell_type": "code",
   "execution_count": 4,
   "metadata": {},
   "outputs": [
    {
     "name": "stderr",
     "output_type": "stream",
     "text": [
      "[2017-05-21 05:56:06,224] Making new env: FrozenLake-v0\n"
     ]
    },
    {
     "data": {
      "text/plain": [
       "[1]"
      ]
     },
     "execution_count": 4,
     "metadata": {},
     "output_type": "execute_result"
    }
   ],
   "source": [
    "env = gym.make('FrozenLake-v0')\n",
    "env.seed(1)\n"
   ]
  },
  {
   "cell_type": "code",
   "execution_count": 5,
   "metadata": {
    "collapsed": true
   },
   "outputs": [],
   "source": [
    "class QNetwork():\n",
    "    \n",
    "    def __init__(self):\n",
    "        \n",
    "        self.n_features = 16\n",
    "        self.n_actions = 4\n",
    "        self.lr = 0.01\n",
    "        self.gamma = 0.99\n",
    "        self.epsilon = 0.10\n",
    "        self.model = self._build_net()\n",
    "            \n",
    "    def _build_net(self):\n",
    "        l_input = Input(batch_shape=(None, self.n_features))\n",
    "        q = Dense(4, activation='linear', kernel_initializer=TruncatedNormal(mean=0, stddev=0.1))(l_input)\n",
    "        model = Model(inputs=l_input, outputs=q)\n",
    "        model.compile(loss='mse', optimizer='sgd')\n",
    "        return model\n",
    "    \n",
    "    def learn(self, s, a, r, s_, done):\n",
    "        \n",
    "        s = self.one_hot(s, self.n_features)\n",
    "        s_ = self.one_hot(s_, self.n_features)\n",
    "        \n",
    "        q = self.model.predict(s)\n",
    "        \n",
    "        target = r\n",
    "        if not done:\n",
    "            target = r + self.gamma*np.amax(self.model.predict(s_))\n",
    "                    \n",
    "        q[0, a] = target\n",
    "        self.model.fit(s, q, verbose=False)\n",
    "        \n",
    "    \n",
    "    def choice_action(self, state):\n",
    "        state = self.one_hot(state, self.n_features)\n",
    "        act = np.argmax(self.model.predict(state))\n",
    "        \n",
    "        if np.random.rand() < self.epsilon:\n",
    "            act = env.action_space.sample()\n",
    "            \n",
    "        return act\n",
    "    \n",
    "    def one_hot(self, ix, n):\n",
    "        vec = np.zeros(n)\n",
    "        vec[ix] = 1\n",
    "        return vec.reshape(1,n)\n",
    "\n"
   ]
  },
  {
   "cell_type": "code",
   "execution_count": 6,
   "metadata": {
    "collapsed": true
   },
   "outputs": [],
   "source": [
    "qnet = QNetwork()"
   ]
  },
  {
   "cell_type": "code",
   "execution_count": 7,
   "metadata": {},
   "outputs": [
    {
     "name": "stdout",
     "output_type": "stream",
     "text": [
      "episode: 0  steps 13  reward: -0.88\n",
      "episode: 50  steps 23  reward: -0.88\n",
      "episode: 100  steps 29  reward: -0.88\n",
      "episode: 150  steps 9  reward: -0.88\n",
      "episode: 200  steps 11  reward: -0.88\n",
      "episode: 250  steps 13  reward: 1.0\n",
      "episode: 300  steps 29  reward: -0.88\n",
      "episode: 350  steps 24  reward: 1.0\n",
      "episode: 400  steps 22  reward: -0.88\n",
      "episode: 450  steps 13  reward: 1.0\n",
      "episode: 500  steps 20  reward: -0.88\n",
      "episode: 550  steps 6  reward: 1.0\n",
      "episode: 600  steps 14  reward: -0.88\n",
      "episode: 650  steps 23  reward: -0.88\n",
      "episode: 700  steps 20  reward: -0.88\n",
      "episode: 750  steps 17  reward: -0.88\n",
      "episode: 800  steps 22  reward: -0.88\n",
      "episode: 850  steps 57  reward: -0.88\n",
      "episode: 900  steps 56  reward: 1.0\n",
      "episode: 950  steps 16  reward: 1.0\n",
      "episode: 1000  steps 12  reward: -0.88\n",
      "episode: 1050  steps 40  reward: 1.0\n",
      "episode: 1100  steps 15  reward: -0.88\n",
      "episode: 1150  steps 17  reward: -0.88\n",
      "episode: 1200  steps 17  reward: -0.88\n",
      "episode: 1250  steps 23  reward: -0.88\n",
      "episode: 1300  steps 6  reward: -0.88\n",
      "episode: 1350  steps 17  reward: -0.88\n",
      "episode: 1400  steps 28  reward: -0.88\n",
      "episode: 1450  steps 65  reward: -0.88\n",
      "episode: 1500  steps 100  reward: -0.88\n",
      "episode: 1550  steps 16  reward: -0.88\n",
      "episode: 1600  steps 11  reward: 1.0\n",
      "episode: 1650  steps 27  reward: -0.88\n",
      "episode: 1700  steps 34  reward: 1.0\n",
      "episode: 1750  steps 17  reward: 1.0\n",
      "episode: 1800  steps 15  reward: 1.0\n",
      "episode: 1850  steps 40  reward: -0.88\n",
      "episode: 1900  steps 43  reward: 1.0\n",
      "episode: 1950  steps 15  reward: -0.88\n"
     ]
    }
   ],
   "source": [
    "MAX_EPISODE = 2000\n",
    "track_r = []\n",
    "\n",
    "for i_episode in range(MAX_EPISODE):\n",
    "\n",
    "    t = 0\n",
    "    ep_r = 0\n",
    "\n",
    "    state = env.reset()\n",
    "\n",
    "    while True:\n",
    "\n",
    "        act = qnet.choice_action(state)\n",
    "        next_state, reward, done, info = env.step(act)\n",
    "\n",
    "        if (done and reward != 1): reward = -0.88    \n",
    "        ep_r += reward\n",
    "        qnet.learn(state, act, reward, next_state, done)\n",
    "\n",
    "        t += 1\n",
    "\n",
    "        if done:\n",
    "\n",
    "            track_r.append(ep_r)\n",
    "\n",
    "            if i_episode % 50 == 0:\n",
    "                print(\"episode:\", i_episode, \" steps\", t, \" reward:\", ep_r)\n",
    "\n",
    "            break\n",
    "        \n",
    "        state = next_state\n"
   ]
  },
  {
   "cell_type": "code",
   "execution_count": 8,
   "metadata": {},
   "outputs": [
    {
     "name": "stderr",
     "output_type": "stream",
     "text": [
      "/usr/local/lib/python3.5/dist-packages/ipykernel_launcher.py:3: FutureWarning: pd.rolling_mean is deprecated for Series and will be removed in a future version, replace with \n",
      "\tSeries.rolling(window=500,center=False).mean()\n",
      "  This is separate from the ipykernel package so we can avoid doing imports until\n"
     ]
    },
    {
     "data": {
      "text/plain": [
       "[<matplotlib.lines.Line2D at 0x7fdf157bb160>]"
      ]
     },
     "execution_count": 8,
     "metadata": {},
     "output_type": "execute_result"
    },
    {
     "data": {
      "image/png": "[encoded data removed]",
      "text/plain": [
       "<matplotlib.figure.Figure at 0x7fdf20d0ebe0>"
      ]
     },
     "metadata": {},
     "output_type": "display_data"
    }
   ],
   "source": [
    "track_r = pd.Series(track_r)\n",
    "track_r[track_r < 0] = 0\n",
    "plt.plot(pd.rolling_mean(track_r, window=500))\n"
   ]
  },
  {
   "cell_type": "code",
   "execution_count": null,
   "metadata": {
    "collapsed": true
   },
   "outputs": [],
   "source": []
  }
 ],
 "metadata": {
  "kernelspec": {
   "display_name": "Python 3",
   "language": "python",
   "name": "python3"
  },
  "language_info": {
   "codemirror_mode": {
    "name": "ipython",
    "version": 3
   },
   "file_extension": ".py",
   "mimetype": "text/x-python",
   "name": "python",
   "nbconvert_exporter": "python",
   "pygments_lexer": "ipython3",
   "version": "3.5.2"
  }
 },
 "nbformat": 4,
 "nbformat_minor": 2
}
